{
 "cells": [
  {
   "cell_type": "code",
   "execution_count": 1,
   "id": "ebfbb145-1966-403e-8760-1f91c47498f8",
   "metadata": {},
   "outputs": [
    {
     "name": "stdout",
     "output_type": "stream",
     "text": [
      "[1 2 3]\n",
      "[[1 2]\n",
      " [3 4]]\n"
     ]
    }
   ],
   "source": [
    "import numpy as np\n",
    "# 1d array\n",
    "arr=np.array([1,2,3])\n",
    "print(arr)\n",
    "#2d array\n",
    "arr_2d=np.array([[1,2],[3,4]])\n",
    "print(arr_2d)"
   ]
  },
  {
   "cell_type": "code",
   "execution_count": 2,
   "id": "2d6de774-5b6c-492a-be5d-070d1c94cc3f",
   "metadata": {},
   "outputs": [
    {
     "name": "stdout",
     "output_type": "stream",
     "text": [
      "[1 2 3]\n"
     ]
    }
   ],
   "source": [
    "import numpy as np\n",
    "arr=np.array([1,2,3])\n",
    "type==(float)\n",
    "print(arr)"
   ]
  },
  {
   "cell_type": "code",
   "execution_count": 3,
   "id": "0ec0c7a3-06f3-4a9f-a238-060a1970b185",
   "metadata": {},
   "outputs": [
    {
     "name": "stdout",
     "output_type": "stream",
     "text": [
      "[[1 2 3]\n",
      " [4 5 6]]\n",
      "[[1 2]\n",
      " [3 4]\n",
      " [5 6]]\n",
      "[[1 2 3]\n",
      " [4 5 6]]\n"
     ]
    }
   ],
   "source": [
    "import numpy as np\n",
    "arr=np.array([1,2,3,4,5,6])\n",
    "reshaped_arr=arr.reshape(2,3)\n",
    "print(reshaped_arr)\n",
    "reshaped_arr=arr.reshape(3,2)\n",
    "print(reshaped_arr)\n",
    "reshaped_arr=arr.reshape(-1,3)\n",
    "print(reshaped_arr)"
   ]
  },
  {
   "cell_type": "code",
   "execution_count": 4,
   "id": "773b6a1c-45f1-4323-9686-c1617e42a7c6",
   "metadata": {},
   "outputs": [
    {
     "name": "stdout",
     "output_type": "stream",
     "text": [
      "[1 2 3 4 5 6 7 8 9]\n",
      "[[1 2 3]\n",
      " [4 5 6]\n",
      " [7 8 9]]\n"
     ]
    }
   ],
   "source": [
    "import numpy as np\n",
    "arr_2d=np.array([[1,2,3],[4,5,6],[7,8,9]])\n",
    "#flatten the array\n",
    "flattened_arr=arr_2d.flatten()\n",
    "print(flattened_arr)\n",
    "reshaped_arr=flattened_arr.reshape(3,3)\n",
    "print(reshaped_arr)"
   ]
  },
  {
   "cell_type": "code",
   "execution_count": 5,
   "id": "be3f7e13-feec-45ee-b112-b399458c8c3f",
   "metadata": {},
   "outputs": [
    {
     "name": "stdin",
     "output_type": "stream",
     "text": [
      "enter the list 1234\n",
      "enter the list 4567\n"
     ]
    },
    {
     "name": "stdout",
     "output_type": "stream",
     "text": [
      "[1234]\n",
      "[4567]\n",
      "[[1234]\n",
      " [4567]]\n"
     ]
    }
   ],
   "source": [
    "import numpy as np\n",
    "arr=int(input(\"enter the list\"))\n",
    "arr_2=int(input(\"enter the list\"))\n",
    "print([arr])\n",
    "print([arr_2])\n",
    "arr_2d=np.array([[arr],[arr_2]])\n",
    "print(arr_2d)"
   ]
  },
  {
   "cell_type": "code",
   "execution_count": 6,
   "id": "e2d0465c-16e8-460e-80b3-d588589fd14c",
   "metadata": {},
   "outputs": [
    {
     "name": "stdin",
     "output_type": "stream",
     "text": [
      "enter the list 123\n",
      "enter the list 234\n",
      "enter the list 456\n"
     ]
    },
    {
     "name": "stdout",
     "output_type": "stream",
     "text": [
      "123\n",
      "234\n",
      "456\n",
      "[[123]\n",
      " [234]\n",
      " [456]]\n"
     ]
    }
   ],
   "source": [
    "import numpy as np\n",
    "arr=int(input(\"enter the list\"))\n",
    "arr_2=int(input(\"enter the list\"))\n",
    "arr_3=int(input(\"enter the list\"))\n",
    "print(arr)\n",
    "print(arr_2)\n",
    "print(arr_3)\n",
    "arr_2d=np.array([[arr],[arr_2],[arr_3]])\n",
    "print(arr_2d)"
   ]
  },
  {
   "cell_type": "code",
   "execution_count": 7,
   "id": "b9abc1a5-4c67-4e19-91b1-24492f6098e8",
   "metadata": {},
   "outputs": [
    {
     "name": "stdout",
     "output_type": "stream",
     "text": [
      "30\n",
      "[20 30 40]\n",
      "[[1 2 3]\n",
      " [4 5 6]\n",
      " [7 8 9]]\n"
     ]
    }
   ],
   "source": [
    "import numpy as np\n",
    "arr=np.array([10,20,30,40,50])\n",
    "print(arr[2])\n",
    "print(arr[1:4])\n",
    "arr_2d=np.array([[1,2,3],[4,5,6],[7,8,9]])\n",
    "print(arr_2d[0:,:3])"
   ]
  },
  {
   "cell_type": "code",
   "execution_count": 8,
   "id": "c7243970-f7c6-4b99-8bf7-c1f8778d60a9",
   "metadata": {},
   "outputs": [
    {
     "name": "stdout",
     "output_type": "stream",
     "text": [
      "[0 2 4 6 8]\n",
      "[0.   0.25 0.5  0.75 1.  ]\n",
      "[  10.           46.41588834  215.443469   1000.        ]\n"
     ]
    }
   ],
   "source": [
    "import numpy as np\n",
    "arr=np.arange(0,10,2)\n",
    "print(arr)\n",
    "arr=np.linspace(0,1,5)\n",
    "print(arr)\n",
    "arr=np.logspace(1,3,4)\n",
    "print(arr)\n"
   ]
  },
  {
   "cell_type": "code",
   "execution_count": 9,
   "id": "308773ad-e8f1-4368-8ccf-e8aa0a9e3dd4",
   "metadata": {},
   "outputs": [
    {
     "name": "stdout",
     "output_type": "stream",
     "text": [
      "[[0. 0. 0.]\n",
      " [0. 0. 0.]\n",
      " [0. 0. 0.]]\n",
      "[[1. 1. 1.]\n",
      " [1. 1. 1.]]\n",
      "[[1 0 0 0]\n",
      " [0 1 0 0]\n",
      " [0 0 1 0]\n",
      " [0 0 0 1]]\n"
     ]
    }
   ],
   "source": [
    "import numpy as np\n",
    "zeros=np.zeros((3,3))\n",
    "print(zeros)\n",
    "ones=np.ones((2,3))\n",
    "print(ones)\n",
    "identity=np.eye(4,dtype=int)\n",
    "print(identity)"
   ]
  },
  {
   "cell_type": "code",
   "execution_count": 10,
   "id": "41b67fb1-0f8b-455c-a5f5-4419f20a0c8b",
   "metadata": {},
   "outputs": [
    {
     "name": "stdout",
     "output_type": "stream",
     "text": [
      "[[0.30467091 0.76315784 0.94599974]\n",
      " [0.03231563 0.47174618 0.73729225]]\n",
      "[[4 2 6]\n",
      " [2 3 8]\n",
      " [1 4 2]]\n"
     ]
    }
   ],
   "source": [
    "import numpy as np\n",
    "random_floats=np.random.rand(2,3)\n",
    "print(random_floats)\n",
    "random_ints=np.random.randint(1,10,(3,3))\n",
    "print(random_ints)"
   ]
  },
  {
   "cell_type": "code",
   "execution_count": 12,
   "id": "f9d461f7-08d3-4815-be42-f7b8e156bc56",
   "metadata": {},
   "outputs": [
    {
     "name": "stdin",
     "output_type": "stream",
     "text": [
      "enter value: 4\n"
     ]
    },
    {
     "name": "stdout",
     "output_type": "stream",
     "text": [
      "[0, 2]\n"
     ]
    }
   ],
   "source": [
    "import numpy as np\n",
    "a=[]\n",
    "n=int(input(\"enter value:\"))\n",
    "for arr in range(0,n,2):\n",
    "    a.append(arr)\n",
    "print(a)"
   ]
  },
  {
   "cell_type": "code",
   "execution_count": 13,
   "id": "75f47493-5957-40c1-a8c4-a46c3342057d",
   "metadata": {},
   "outputs": [
    {
     "name": "stdin",
     "output_type": "stream",
     "text": [
      "enter starting value: 2\n",
      "enter ending value: 5\n",
      "enter num: 1\n"
     ]
    },
    {
     "name": "stdout",
     "output_type": "stream",
     "text": [
      "[2.]\n"
     ]
    }
   ],
   "source": [
    "import numpy as np\n",
    "a=int(input(\"enter starting value:\"))\n",
    "b=int(input(\"enter ending value:\"))\n",
    "c=int(input(\"enter num:\"))\n",
    "arr=np.linspace(a,b,c)\n",
    "print(arr)\n"
   ]
  },
  {
   "cell_type": "code",
   "execution_count": 14,
   "id": "c6b02930-e04c-4be8-b405-85572874a447",
   "metadata": {},
   "outputs": [
    {
     "name": "stdout",
     "output_type": "stream",
     "text": [
      "[[2 7 6]\n",
      " [9 5 1]\n",
      " [4 3 8]]\n",
      "sum: 45\n",
      "[2 5 8]\n",
      "[[2 7 6]\n",
      " [9 5 1]\n",
      " [4 3 8]]\n",
      "[[2 7 6]\n",
      " [9 5 1]\n",
      " [4 3 8]]\n",
      "[15 15 15]\n",
      "[15 15 15]\n",
      "15\n"
     ]
    }
   ],
   "source": [
    "import numpy as np\n",
    "arr=np.array([[2,7,6],[9,5,1],[4,3,8]])\n",
    "print(arr)\n",
    "print(\"sum:\",np.sum(arr))\n",
    "diagonal=np.diag(arr)\n",
    "print(diagonal)\n",
    "vstacked=np.vstack([arr])\n",
    "print(vstacked)\n",
    "hstacked=np.hstack([arr])\n",
    "print(hstacked)\n",
    "print(np.sum(arr,axis=0))\n",
    "print(np.sum(arr,axis=1))\n",
    "print(np.sum(diagonal))\n"
   ]
  },
  {
   "cell_type": "code",
   "execution_count": 15,
   "id": "c6b42ff1-db59-4a5c-99a9-ef396ad1b13d",
   "metadata": {},
   "outputs": [
    {
     "name": "stdout",
     "output_type": "stream",
     "text": [
      "[2 1 3 4 5 6 7 8 9]\n",
      "[[2 1 3]\n",
      " [4 5 6]\n",
      " [7 8 9]]\n",
      "sum of diagonals is: 16\n",
      "sum of columns is: [13 14 18]\n"
     ]
    },
    {
     "name": "stdin",
     "output_type": "stream",
     "text": [
      "enter the value: 2\n"
     ]
    },
    {
     "ename": "ValueError",
     "evalue": "The truth value of an array with more than one element is ambiguous. Use a.any() or a.all()",
     "output_type": "error",
     "traceback": [
      "\u001b[1;31m---------------------------------------------------------------------------\u001b[0m",
      "\u001b[1;31mValueError\u001b[0m                                Traceback (most recent call last)",
      "Cell \u001b[1;32mIn[15], line 14\u001b[0m\n\u001b[0;32m     12\u001b[0m \u001b[38;5;66;03m#print(\"sum of columns is:\",np.sum(reshaped_arr,axis=0))\u001b[39;00m\n\u001b[0;32m     13\u001b[0m n\u001b[38;5;241m=\u001b[39m\u001b[38;5;28mint\u001b[39m(\u001b[38;5;28minput\u001b[39m(\u001b[38;5;124m\"\u001b[39m\u001b[38;5;124menter the value:\u001b[39m\u001b[38;5;124m\"\u001b[39m))\n\u001b[1;32m---> 14\u001b[0m \u001b[38;5;28;01mif\u001b[39;00m a\u001b[38;5;241m==\u001b[39mb:\n\u001b[0;32m     15\u001b[0m    \u001b[38;5;28mprint\u001b[39m(\u001b[38;5;124m\"\u001b[39m\u001b[38;5;124mit is magic matrix\u001b[39m\u001b[38;5;124m\"\u001b[39m)\n\u001b[0;32m     16\u001b[0m \u001b[38;5;66;03m#elif columnsum==n:\u001b[39;00m\n\u001b[0;32m     17\u001b[0m    \u001b[38;5;66;03m#print(\"it is magic matrix\")\u001b[39;00m\n\u001b[0;32m     18\u001b[0m \u001b[38;5;28;01melse\u001b[39;00m:\n",
      "\u001b[1;31mValueError\u001b[0m: The truth value of an array with more than one element is ambiguous. Use a.any() or a.all()"
     ]
    }
   ],
   "source": [
    "import numpy as np\n",
    "arr_2d=np.array([[2,1,3],[4,5,6],[7,8,9]])\n",
    "#flatten the array\n",
    "flattened_arr=arr_2d.flatten()\n",
    "print(flattened_arr)\n",
    "reshaped_arr=flattened_arr.reshape(3,3)\n",
    "print(reshaped_arr)\n",
    "a=np.trace(reshaped_arr)\n",
    "print(\"sum of diagonals is:\",a)\n",
    "b=np.sum(reshaped_arr,axis=0)\n",
    "print(\"sum of columns is:\",b)\n",
    "#print(\"sum of columns is:\",np.sum(reshaped_arr,axis=0))\n",
    "n=int(input(\"enter the value:\"))\n",
    "if a==b:\n",
    "   print(\"it is magic matrix\")\n",
    "#elif columnsum==n:\n",
    "   #print(\"it is magic matrix\")\n",
    "else:\n",
    "   print(\"it is not magic matrix\")"
   ]
  },
  {
   "cell_type": "code",
   "execution_count": 2,
   "id": "9b64b115-2634-48ad-8a67-8190c0c3b5dc",
   "metadata": {},
   "outputs": [
    {
     "name": "stdout",
     "output_type": "stream",
     "text": [
      "[5 7 9]\n",
      "[2 5]\n",
      "[ 1  3  6 10 15 21]\n"
     ]
    }
   ],
   "source": [
    "import numpy as np\n",
    "arr=np.array([[1,2,3],[4,5,6]])\n",
    "print(np.sum(arr,axis=0))\n",
    "print(np.mean(arr,axis=1,dtype=int))\n",
    "print(np.cumsum(arr))"
   ]
  },
  {
   "cell_type": "code",
   "execution_count": 1,
   "id": "a878dc2d-f2ca-4553-90bc-2e611895bed3",
   "metadata": {},
   "outputs": [
    {
     "name": "stdin",
     "output_type": "stream",
     "text": [
      "enter numbers: 4\n",
      "enter 1 value: 1\n",
      "enter 2 value: 2\n",
      "enter 3 value: 3\n",
      "enter 4 value: 4\n"
     ]
    },
    {
     "name": "stdout",
     "output_type": "stream",
     "text": [
      "[1 2 3 4]\n",
      "size: 4\n",
      "shape: (4,)\n",
      "datatype: int32\n"
     ]
    }
   ],
   "source": [
    "import numpy as np\n",
    "a=[]\n",
    "r=int(input(\"enter numbers:\"))\n",
    "for i in range(r):\n",
    "    c=int(input(\"enter \"+str(i+1)+\" value:\"))\n",
    "    a.append(c)\n",
    "arr_2d=np.array(a)\n",
    "print(arr_2d)\n",
    "print(\"size:\",arr_2d.size)\n",
    "print(\"shape:\",arr_2d.shape)\n",
    "print(\"datatype:\",arr_2d.dtype)\n"
   ]
  },
  {
   "cell_type": "code",
   "execution_count": 2,
   "id": "151a4216-b00f-4ad6-b9e3-e21f2efdac93",
   "metadata": {},
   "outputs": [
    {
     "name": "stdout",
     "output_type": "stream",
     "text": [
      "[[18 14 16]\n",
      " [15  5  7]\n",
      " [17 17  9]]\n",
      "sum: [48 27 43]\n"
     ]
    }
   ],
   "source": [
    "import numpy as np\n",
    "arr_2d=np.random.randint(1,20,(3,3))\n",
    "print(arr_2d)\n",
    "print(\"sum:\",np.sum(arr_2d,axis=1))"
   ]
  },
  {
   "cell_type": "code",
   "execution_count": 5,
   "id": "2d4c6569-046e-4356-b8c7-3903f66bd700",
   "metadata": {},
   "outputs": [
    {
     "name": "stdout",
     "output_type": "stream",
     "text": [
      "[1, 2, 3, 4]\n",
      "[6, 7, 8, 9]\n",
      "[7, 9, 11, 13]\n",
      "[ 7  9 11 13]\n",
      "[ 6 14 24 36]\n",
      "80\n"
     ]
    }
   ],
   "source": [
    "import numpy as np\n",
    "A=[]\n",
    "B=[]\n",
    "A=list(map(lambda A: A, range(1, 5)))\n",
    "B=list(map(lambda B: B, range(6, 10)))\n",
    "C=list(map(lambda A,B:A+B, A,B))\n",
    "print(A)\n",
    "print(B)\n",
    "print(C)\n",
    "add=np.add(A,B)\n",
    "print(add)\n",
    "mul=np.multiply(A,B)\n",
    "print(mul)\n",
    "dot=np.dot(A,B)\n",
    "print(dot)"
   ]
  },
  {
   "cell_type": "code",
   "execution_count": 7,
   "id": "35d585ff-d2a2-4c2e-85e1-26c02ee95853",
   "metadata": {},
   "outputs": [
    {
     "name": "stdout",
     "output_type": "stream",
     "text": [
      "3.141592653589793\n",
      "sine values: [0.0000000e+00 1.0000000e+00 1.2246468e-16]\n",
      "cosine values: [ 1.000000e+00  6.123234e-17 -1.000000e+00]\n",
      "tangent values: [ 0.00000000e+00  1.63312394e+16 -1.22464680e-16]\n"
     ]
    }
   ],
   "source": [
    "import numpy as np\n",
    "print(np.pi)\n",
    "angles=np.array([0,np.pi/2,np.pi])\n",
    "sine_values=np.sin(angles)\n",
    "cosine_values=np.cos(angles)\n",
    "tangent_values=np.tan(angles)\n",
    "print(\"sine values:\",sine_values)\n",
    "print(\"cosine values:\",cosine_values)\n",
    "print(\"tangent values:\",tangent_values)\n"
   ]
  },
  {
   "cell_type": "code",
   "execution_count": 8,
   "id": "4752b842-1535-449e-928d-abfb99df8378",
   "metadata": {},
   "outputs": [
    {
     "name": "stdout",
     "output_type": "stream",
     "text": [
      "arcsin(1): 90.0\n"
     ]
    }
   ],
   "source": [
    "import numpy as np\n",
    "arcsin_values=np.arcsin(1)\n",
    "print(\"arcsin(1):\",np.degrees(arcsin_values))"
   ]
  },
  {
   "cell_type": "code",
   "execution_count": 9,
   "id": "343c2a34-66c3-42e9-a27b-6fae222df8e2",
   "metadata": {},
   "outputs": [
    {
     "name": "stdout",
     "output_type": "stream",
     "text": [
      "exponential values: [ 2.71828183  7.3890561  20.08553692]\n",
      "natural log: [0.         0.69314718 1.09861229]\n",
      "logbase10: [0.         0.30103    0.47712125]\n"
     ]
    }
   ],
   "source": [
    "import numpy as np\n",
    "arr=np.array([1,2,3])\n",
    "exp_values=np.exp(arr)\n",
    "print(\"exponential values:\",exp_values)\n",
    "log_values=np.log(arr)\n",
    "print(\"natural log:\",log_values)\n",
    "log10_values=np.log10(arr)\n",
    "print(\"logbase10:\",log10_values)"
   ]
  },
  {
   "cell_type": "code",
   "execution_count": 11,
   "id": "853ce76c-9396-4cf0-be90-7ec876257f29",
   "metadata": {},
   "outputs": [
    {
     "name": "stdout",
     "output_type": "stream",
     "text": [
      "rounded values: [2. 2. 4.]\n",
      "floored values: [1. 2. 3.]\n",
      "ceiled values: [2. 3. 4.]\n"
     ]
    }
   ],
   "source": [
    "import numpy as np\n",
    "arr=np.array([1.5,2.3,3.8])\n",
    "rounded=np.round(arr)\n",
    "print(\"rounded values:\",rounded)\n",
    "floored=np.floor(arr)\n",
    "print(\"floored values:\",floored)\n",
    "ceiled=np.ceil(arr)\n",
    "print(\"ceiled values:\",ceiled)"
   ]
  },
  {
   "cell_type": "code",
   "execution_count": 12,
   "id": "bd88c369-428b-4043-b0ab-3807c86768f4",
   "metadata": {},
   "outputs": [
    {
     "name": "stdout",
     "output_type": "stream",
     "text": [
      "mean: 3.0\n",
      "median: 3.0\n",
      "variance: 2.0\n",
      "standard deviation: 1.4142135623730951\n"
     ]
    }
   ],
   "source": [
    "import numpy as np\n",
    "data=np.array([1,2,3,4,5])\n",
    "mean_value=np.mean(data)\n",
    "print(\"mean:\",mean_value)\n",
    "median_value=np.median(data)\n",
    "print(\"median:\",median_value)\n",
    "variance_value=np.var(data)\n",
    "print(\"variance:\",variance_value)\n",
    "std_dev_value=np.std(data)\n",
    "print(\"standard deviation:\",std_dev_value)"
   ]
  },
  {
   "cell_type": "code",
   "execution_count": 13,
   "id": "19a4ba6f-3ddf-4f1d-a353-e939a9f04d79",
   "metadata": {},
   "outputs": [
    {
     "name": "stdout",
     "output_type": "stream",
     "text": [
      "solution: [-1.   1.5]\n"
     ]
    }
   ],
   "source": [
    "import numpy as np\n",
    "A=np.array([[1,2],[3,4]])\n",
    "B=np.array([2,3])\n",
    "x=np.linalg.solve(A,B)\n",
    "print(\"solution:\",x)"
   ]
  },
  {
   "cell_type": "code",
   "execution_count": 14,
   "id": "a7b333a7-b14c-410d-8637-fc5f6811248f",
   "metadata": {},
   "outputs": [
    {
     "name": "stdout",
     "output_type": "stream",
     "text": [
      "solution: [ 2.  3. -1.]\n"
     ]
    }
   ],
   "source": [
    "import numpy as np\n",
    "A=np.array([[2,1,-1],[-3,-1,2],[-2,1,2]])\n",
    "B=np.array([8,-11,-3])\n",
    "x=np.linalg.solve(A,B)\n",
    "print(\"solution:\",x)"
   ]
  },
  {
   "cell_type": "code",
   "execution_count": null,
   "id": "5051152d-92f3-4dd5-9e7e-29f61a57d2c3",
   "metadata": {},
   "outputs": [],
   "source": []
  }
 ],
 "metadata": {
  "kernelspec": {
   "display_name": "Python 3 (ipykernel)",
   "language": "python",
   "name": "python3"
  },
  "language_info": {
   "codemirror_mode": {
    "name": "ipython",
    "version": 3
   },
   "file_extension": ".py",
   "mimetype": "text/x-python",
   "name": "python",
   "nbconvert_exporter": "python",
   "pygments_lexer": "ipython3",
   "version": "3.12.7"
  }
 },
 "nbformat": 4,
 "nbformat_minor": 5
}
